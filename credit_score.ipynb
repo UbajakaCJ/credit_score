{
 "cells": [
  {
   "cell_type": "code",
   "execution_count": 3,
   "id": "2d56e9b7",
   "metadata": {},
   "outputs": [
    {
     "name": "stdout",
     "output_type": "stream",
     "text": [
      "\n",
      "\u001b[1m[\u001b[0m\u001b[34;49mnotice\u001b[0m\u001b[1;39;49m]\u001b[0m\u001b[39;49m A new release of pip is available: \u001b[0m\u001b[31;49m23.1.1\u001b[0m\u001b[39;49m -> \u001b[0m\u001b[32;49m23.1.2\u001b[0m\n",
      "\u001b[1m[\u001b[0m\u001b[34;49mnotice\u001b[0m\u001b[1;39;49m]\u001b[0m\u001b[39;49m To update, run: \u001b[0m\u001b[32;49mpython -m pip install --upgrade pip\u001b[0m\n"
     ]
    }
   ],
   "source": [
    "!pip install kaggle --quiet"
   ]
  },
  {
   "cell_type": "code",
   "execution_count": 89,
   "id": "54ff9ea5",
   "metadata": {},
   "outputs": [],
   "source": [
    "import pandas as pd\n",
    "import numpy as np\n",
    "import glob"
   ]
  },
  {
   "cell_type": "code",
   "execution_count": 37,
   "id": "7c0bca17",
   "metadata": {},
   "outputs": [
    {
     "data": {
      "text/plain": [
       "['train.csv', 'sample_submission.csv', 'test.csv']"
      ]
     },
     "execution_count": 37,
     "metadata": {},
     "output_type": "execute_result"
    }
   ],
   "source": [
    "glob.glob(\"*.csv\")"
   ]
  },
  {
   "cell_type": "code",
   "execution_count": 38,
   "id": "0c229b2b",
   "metadata": {},
   "outputs": [],
   "source": [
    "train = pd.read_csv('train.csv')\n",
    "test = pd.read_csv('test.csv')\n",
    "sample = pd.read_csv('sample_submission.csv')"
   ]
  },
  {
   "cell_type": "code",
   "execution_count": 39,
   "id": "8b2d1bce",
   "metadata": {},
   "outputs": [
    {
     "data": {
      "text/html": [
       "<div>\n",
       "<style scoped>\n",
       "    .dataframe tbody tr th:only-of-type {\n",
       "        vertical-align: middle;\n",
       "    }\n",
       "\n",
       "    .dataframe tbody tr th {\n",
       "        vertical-align: top;\n",
       "    }\n",
       "\n",
       "    .dataframe thead th {\n",
       "        text-align: right;\n",
       "    }\n",
       "</style>\n",
       "<table border=\"1\" class=\"dataframe\">\n",
       "  <thead>\n",
       "    <tr style=\"text-align: right;\">\n",
       "      <th></th>\n",
       "      <th>Unnamed: 0</th>\n",
       "      <th>checking_balance</th>\n",
       "      <th>months_loan_duration</th>\n",
       "      <th>credit_history</th>\n",
       "      <th>purpose</th>\n",
       "      <th>amount</th>\n",
       "      <th>savings_balance</th>\n",
       "      <th>employment_length</th>\n",
       "      <th>installment_rate</th>\n",
       "      <th>personal_status</th>\n",
       "      <th>...</th>\n",
       "      <th>installment_plan</th>\n",
       "      <th>housing</th>\n",
       "      <th>existing_credits</th>\n",
       "      <th>default</th>\n",
       "      <th>dependents</th>\n",
       "      <th>telephone</th>\n",
       "      <th>foreign_worker</th>\n",
       "      <th>job</th>\n",
       "      <th>gender</th>\n",
       "      <th>Id</th>\n",
       "    </tr>\n",
       "  </thead>\n",
       "  <tbody>\n",
       "    <tr>\n",
       "      <th>0</th>\n",
       "      <td>0</td>\n",
       "      <td>-43.0</td>\n",
       "      <td>6</td>\n",
       "      <td>critical</td>\n",
       "      <td>radio/tv</td>\n",
       "      <td>1169</td>\n",
       "      <td>NaN</td>\n",
       "      <td>13 years</td>\n",
       "      <td>4</td>\n",
       "      <td>single</td>\n",
       "      <td>...</td>\n",
       "      <td>none</td>\n",
       "      <td>own</td>\n",
       "      <td>2</td>\n",
       "      <td>0</td>\n",
       "      <td>1</td>\n",
       "      <td>2.349340e+09</td>\n",
       "      <td>yes</td>\n",
       "      <td>skilled employee</td>\n",
       "      <td>male</td>\n",
       "      <td>0</td>\n",
       "    </tr>\n",
       "    <tr>\n",
       "      <th>1</th>\n",
       "      <td>1</td>\n",
       "      <td>75.0</td>\n",
       "      <td>48</td>\n",
       "      <td>repaid</td>\n",
       "      <td>radio/tv</td>\n",
       "      <td>5951</td>\n",
       "      <td>89.0</td>\n",
       "      <td>2 years</td>\n",
       "      <td>2</td>\n",
       "      <td>NaN</td>\n",
       "      <td>...</td>\n",
       "      <td>none</td>\n",
       "      <td>own</td>\n",
       "      <td>1</td>\n",
       "      <td>1</td>\n",
       "      <td>1</td>\n",
       "      <td>NaN</td>\n",
       "      <td>yes</td>\n",
       "      <td>skilled employee</td>\n",
       "      <td>female</td>\n",
       "      <td>1</td>\n",
       "    </tr>\n",
       "    <tr>\n",
       "      <th>2</th>\n",
       "      <td>3</td>\n",
       "      <td>-32.0</td>\n",
       "      <td>42</td>\n",
       "      <td>repaid</td>\n",
       "      <td>furniture</td>\n",
       "      <td>7882</td>\n",
       "      <td>9.0</td>\n",
       "      <td>5 years</td>\n",
       "      <td>2</td>\n",
       "      <td>single</td>\n",
       "      <td>...</td>\n",
       "      <td>none</td>\n",
       "      <td>for free</td>\n",
       "      <td>1</td>\n",
       "      <td>0</td>\n",
       "      <td>2</td>\n",
       "      <td>NaN</td>\n",
       "      <td>yes</td>\n",
       "      <td>skilled employee</td>\n",
       "      <td>male</td>\n",
       "      <td>3</td>\n",
       "    </tr>\n",
       "    <tr>\n",
       "      <th>3</th>\n",
       "      <td>5</td>\n",
       "      <td>NaN</td>\n",
       "      <td>36</td>\n",
       "      <td>repaid</td>\n",
       "      <td>education</td>\n",
       "      <td>9055</td>\n",
       "      <td>NaN</td>\n",
       "      <td>2 years</td>\n",
       "      <td>2</td>\n",
       "      <td>single</td>\n",
       "      <td>...</td>\n",
       "      <td>none</td>\n",
       "      <td>for free</td>\n",
       "      <td>1</td>\n",
       "      <td>0</td>\n",
       "      <td>2</td>\n",
       "      <td>2.345788e+09</td>\n",
       "      <td>yes</td>\n",
       "      <td>unskilled resident</td>\n",
       "      <td>male</td>\n",
       "      <td>5</td>\n",
       "    </tr>\n",
       "    <tr>\n",
       "      <th>4</th>\n",
       "      <td>7</td>\n",
       "      <td>169.0</td>\n",
       "      <td>36</td>\n",
       "      <td>repaid</td>\n",
       "      <td>car (used)</td>\n",
       "      <td>6948</td>\n",
       "      <td>57.0</td>\n",
       "      <td>2 years</td>\n",
       "      <td>2</td>\n",
       "      <td>single</td>\n",
       "      <td>...</td>\n",
       "      <td>none</td>\n",
       "      <td>rent</td>\n",
       "      <td>1</td>\n",
       "      <td>0</td>\n",
       "      <td>1</td>\n",
       "      <td>2.349962e+09</td>\n",
       "      <td>yes</td>\n",
       "      <td>mangement self-employed</td>\n",
       "      <td>male</td>\n",
       "      <td>7</td>\n",
       "    </tr>\n",
       "  </tbody>\n",
       "</table>\n",
       "<p>5 rows × 24 columns</p>\n",
       "</div>"
      ],
      "text/plain": [
       "   Unnamed: 0  checking_balance  months_loan_duration credit_history   \n",
       "0           0             -43.0                     6       critical  \\\n",
       "1           1              75.0                    48         repaid   \n",
       "2           3             -32.0                    42         repaid   \n",
       "3           5               NaN                    36         repaid   \n",
       "4           7             169.0                    36         repaid   \n",
       "\n",
       "      purpose  amount  savings_balance employment_length  installment_rate   \n",
       "0    radio/tv    1169              NaN          13 years                 4  \\\n",
       "1    radio/tv    5951             89.0           2 years                 2   \n",
       "2   furniture    7882              9.0           5 years                 2   \n",
       "3   education    9055              NaN           2 years                 2   \n",
       "4  car (used)    6948             57.0           2 years                 2   \n",
       "\n",
       "  personal_status  ... installment_plan   housing existing_credits  default   \n",
       "0          single  ...             none       own                2        0  \\\n",
       "1             NaN  ...             none       own                1        1   \n",
       "2          single  ...             none  for free                1        0   \n",
       "3          single  ...             none  for free                1        0   \n",
       "4          single  ...             none      rent                1        0   \n",
       "\n",
       "  dependents     telephone  foreign_worker                      job  gender   \n",
       "0          1  2.349340e+09             yes         skilled employee    male  \\\n",
       "1          1           NaN             yes         skilled employee  female   \n",
       "2          2           NaN             yes         skilled employee    male   \n",
       "3          2  2.345788e+09             yes       unskilled resident    male   \n",
       "4          1  2.349962e+09             yes  mangement self-employed    male   \n",
       "\n",
       "   Id  \n",
       "0   0  \n",
       "1   1  \n",
       "2   3  \n",
       "3   5  \n",
       "4   7  \n",
       "\n",
       "[5 rows x 24 columns]"
      ]
     },
     "execution_count": 39,
     "metadata": {},
     "output_type": "execute_result"
    }
   ],
   "source": [
    "train.head()"
   ]
  },
  {
   "cell_type": "code",
   "execution_count": 40,
   "id": "074b330e",
   "metadata": {},
   "outputs": [
    {
     "data": {
      "text/plain": [
       "Index(['Unnamed: 0', 'checking_balance', 'months_loan_duration',\n",
       "       'credit_history', 'purpose', 'amount', 'savings_balance',\n",
       "       'employment_length', 'installment_rate', 'personal_status',\n",
       "       'other_debtors', 'residence_history', 'property', 'age',\n",
       "       'installment_plan', 'housing', 'existing_credits', 'default',\n",
       "       'dependents', 'telephone', 'foreign_worker', 'job', 'gender', 'Id'],\n",
       "      dtype='object')"
      ]
     },
     "execution_count": 40,
     "metadata": {},
     "output_type": "execute_result"
    }
   ],
   "source": [
    "train.columns"
   ]
  },
  {
   "cell_type": "code",
   "execution_count": 41,
   "id": "89a65367",
   "metadata": {},
   "outputs": [],
   "source": [
    "modes = train.mode().iloc[0]"
   ]
  },
  {
   "cell_type": "code",
   "execution_count": 42,
   "id": "d8b4073c",
   "metadata": {},
   "outputs": [],
   "source": [
    "def proc_data(df):\n",
    "    df.fillna(modes, inplace=True)\n",
    "    df['credit_history'] = pd.Categorical(df.credit_history)\n",
    "    df['purpose'] = pd.Categorical(df.purpose)\n",
    "    df['personal_status'] = pd.Categorical(df.personal_status)\n",
    "    df['other_debtors'] = pd.Categorical(df.other_debtors)\n",
    "    df['property'] = pd.Categorical(df.property)\n",
    "    df['installment_plan'] = pd.Categorical(df.installment_plan)\n",
    "    df['installment_rate'] = pd.Categorical(df.installment_rate)\n",
    "    df['housing'] = pd.Categorical(df.housing)\n",
    "    df['foreign_worker'] = pd.Categorical(df.foreign_worker)\n",
    "    df['job'] = pd.Categorical(df.job)\n",
    "    df['gender'] = pd.Categorical(df.gender)\n",
    "    df['existing_credits'] = pd.Categorical(df.existing_credits)\n",
    "    df['dependents'] = pd.Categorical(df.dependents)"
   ]
  },
  {
   "cell_type": "code",
   "execution_count": 43,
   "id": "50dc68a6",
   "metadata": {},
   "outputs": [],
   "source": [
    "proc_data(train)\n",
    "proc_data(test)"
   ]
  },
  {
   "cell_type": "code",
   "execution_count": 44,
   "id": "4b5c23bb",
   "metadata": {},
   "outputs": [],
   "source": [
    "def convert_str_years(string):\n",
    "    if 'year' in string:\n",
    "        return int(string.split()[0])\n",
    "    else:\n",
    "        return round(int(string.split()[0]) / 12, 2)"
   ]
  },
  {
   "cell_type": "code",
   "execution_count": 45,
   "id": "956171d2",
   "metadata": {},
   "outputs": [],
   "source": [
    "train['employment_length'] = train['employment_length'].apply(convert_str_years)\n",
    "train['residence_history'] = train['residence_history'].apply(convert_str_years)"
   ]
  },
  {
   "cell_type": "code",
   "execution_count": 46,
   "id": "e49050e1",
   "metadata": {},
   "outputs": [],
   "source": [
    "cats = ['credit_history', 'purpose', 'personal_status', 'other_debtors', 'property', 'installment_plan', 'installment_rate',\\\n",
    "       'housing', 'foreign_worker', 'job', 'gender', 'existing_credits', 'dependents']\n",
    "conts = ['employment_length', 'residence_history', 'checking_balance', 'months_loan_duration','amount', 'savings_balance', \\\n",
    "        'age']\n",
    "\n",
    "dep = 'default'"
   ]
  },
  {
   "cell_type": "code",
   "execution_count": 47,
   "id": "1132bf15",
   "metadata": {},
   "outputs": [],
   "source": [
    "df = train.copy()"
   ]
  },
  {
   "cell_type": "code",
   "execution_count": 48,
   "id": "ab9ad7ea",
   "metadata": {},
   "outputs": [],
   "source": [
    "t_id = df['Id']"
   ]
  },
  {
   "cell_type": "code",
   "execution_count": 49,
   "id": "75f899c3",
   "metadata": {},
   "outputs": [],
   "source": [
    "df = df.drop(['Unnamed: 0', 'telephone', 'Id'], axis=1)"
   ]
  },
  {
   "cell_type": "code",
   "execution_count": 50,
   "id": "7f60cf29",
   "metadata": {},
   "outputs": [],
   "source": [
    "from numpy import random\n",
    "from sklearn.model_selection import train_test_split\n",
    "\n",
    "random.seed(42)\n",
    "trn_df, val_df = train_test_split(df, test_size=0.25)\n",
    "trn_df[cats] = trn_df[cats].apply(lambda x: x.cat.codes)\n",
    "val_df[cats] = val_df[cats].apply(lambda x: x.cat.codes)"
   ]
  },
  {
   "cell_type": "code",
   "execution_count": 51,
   "id": "2eeebe9a",
   "metadata": {},
   "outputs": [],
   "source": [
    "def xs_y(df):\n",
    "    xs = df[cats+conts].copy()\n",
    "    return xs, df[dep] if dep in df else None\n",
    "\n",
    "trn_xs, trn_y = xs_y(trn_df)\n",
    "val_xs, val_y = xs_y(val_df)"
   ]
  },
  {
   "cell_type": "code",
   "execution_count": 52,
   "id": "ad2ce4f7",
   "metadata": {},
   "outputs": [],
   "source": [
    "from sklearn.tree import DecisionTreeClassifier, export_graphviz\n",
    "\n",
    "m = DecisionTreeClassifier(max_leaf_nodes=4).fit(trn_xs, trn_y)"
   ]
  },
  {
   "cell_type": "code",
   "execution_count": 53,
   "id": "5ec966de",
   "metadata": {},
   "outputs": [
    {
     "data": {
      "text/plain": [
       "0.327683615819209"
      ]
     },
     "execution_count": 53,
     "metadata": {},
     "output_type": "execute_result"
    }
   ],
   "source": [
    "from sklearn.metrics import mean_absolute_error\n",
    "mean_absolute_error(val_y, m.predict(val_xs))"
   ]
  },
  {
   "cell_type": "code",
   "execution_count": 54,
   "id": "7f8e6402",
   "metadata": {},
   "outputs": [
    {
     "data": {
      "text/plain": [
       "0.24293785310734464"
      ]
     },
     "execution_count": 54,
     "metadata": {},
     "output_type": "execute_result"
    }
   ],
   "source": [
    "from sklearn.ensemble import RandomForestClassifier\n",
    "from sklearn.metrics import mean_absolute_error\n",
    "\n",
    "rf = RandomForestClassifier(100, min_samples_leaf=2)\n",
    "rf.fit(trn_xs, trn_y)\n",
    "mean_absolute_error(val_y, rf.predict(val_xs))"
   ]
  },
  {
   "cell_type": "code",
   "execution_count": 57,
   "id": "dfa3dd2f",
   "metadata": {},
   "outputs": [],
   "source": [
    "test['employment_length'] = test['employment_length'].apply(convert_str_years)\n",
    "test['residence_history'] = test['residence_history'].apply(convert_str_years)"
   ]
  },
  {
   "cell_type": "code",
   "execution_count": 58,
   "id": "3f8b0545",
   "metadata": {},
   "outputs": [],
   "source": [
    "test_id = test['Id']"
   ]
  },
  {
   "cell_type": "code",
   "execution_count": 59,
   "id": "fbc9f2fe",
   "metadata": {},
   "outputs": [],
   "source": [
    "test = test.drop(['Unnamed: 0', 'telephone', 'Id'], axis=1)"
   ]
  },
  {
   "cell_type": "code",
   "execution_count": 81,
   "id": "16b68881",
   "metadata": {},
   "outputs": [],
   "source": [
    "test[cats] = test[cats].apply(lambda x: x.cat.codes)"
   ]
  },
  {
   "cell_type": "code",
   "execution_count": 82,
   "id": "7dd8e600",
   "metadata": {},
   "outputs": [],
   "source": [
    "random.seed(42)\n",
    "\n",
    "test_xs, _ = xs_y(test)"
   ]
  },
  {
   "cell_type": "code",
   "execution_count": 86,
   "id": "c35ee31e",
   "metadata": {},
   "outputs": [],
   "source": [
    "preds = rf.predict(test_xs)"
   ]
  },
  {
   "cell_type": "code",
   "execution_count": 87,
   "id": "dd4ba4b2",
   "metadata": {},
   "outputs": [],
   "source": [
    "prediction = pd.DataFrame(test_id).join(pd.DataFrame(preds, columns=['Predicted']))"
   ]
  },
  {
   "cell_type": "code",
   "execution_count": 90,
   "id": "ec9bbc38",
   "metadata": {},
   "outputs": [],
   "source": [
    "prediction.to_csv('submission.csv', index=False)"
   ]
  },
  {
   "cell_type": "code",
   "execution_count": 4,
   "id": "36b363ff",
   "metadata": {},
   "outputs": [
    {
     "name": "stdout",
     "output_type": "stream",
     "text": [
      "Traceback (most recent call last):\n",
      "  File \"/home/codespace/.python/current/bin/kaggle\", line 5, in <module>\n",
      "    from kaggle.cli import main\n",
      "  File \"/usr/local/python/3.10.4/lib/python3.10/site-packages/kaggle/__init__.py\", line 23, in <module>\n",
      "    api.authenticate()\n",
      "  File \"/usr/local/python/3.10.4/lib/python3.10/site-packages/kaggle/api/kaggle_api_extended.py\", line 164, in authenticate\n",
      "    raise IOError('Could not find {}. Make sure it\\'s located in'\n",
      "OSError: Could not find kaggle.json. Make sure it's located in /home/codespace/.kaggle. Or use the environment method.\n"
     ]
    }
   ],
   "source": [
    "!kaggle competitions list --sort-by 'earliestDeadline'"
   ]
  },
  {
   "cell_type": "code",
   "execution_count": null,
   "id": "0f28b9ff",
   "metadata": {},
   "outputs": [],
   "source": []
  }
 ],
 "metadata": {
  "kernelspec": {
   "display_name": "Python 3 (ipykernel)",
   "language": "python",
   "name": "python3"
  },
  "language_info": {
   "codemirror_mode": {
    "name": "ipython",
    "version": 3
   },
   "file_extension": ".py",
   "mimetype": "text/x-python",
   "name": "python",
   "nbconvert_exporter": "python",
   "pygments_lexer": "ipython3",
   "version": "3.10.4"
  }
 },
 "nbformat": 4,
 "nbformat_minor": 5
}
